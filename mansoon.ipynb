{
 "cells": [
  {
   "cell_type": "code",
   "execution_count": 28,
   "id": "03ca2355-46d7-4837-ab78-1cc14f175d44",
   "metadata": {},
   "outputs": [],
   "source": [
    "import pandas as pd\n",
    "import time\n",
    "from datetime import datetime, timedelta\n"
   ]
  },
  {
   "cell_type": "code",
   "execution_count": 29,
   "id": "1e2d7ce2-f957-4a6e-9570-774b7a7b3ecf",
   "metadata": {},
   "outputs": [
    {
     "name": "stdout",
     "output_type": "stream",
     "text": [
      "  Circle Mansoon Season(Aprox) Premonsoon Activities  Start(Aprox) End(Aprox)  \\\n",
      "0    APR             June-Sept                     H1   2024-06-15 2024-09-15   \n",
      "1    ANE             June-Sept                     H1   2024-06-01 2024-09-30   \n",
      "\n",
      "   Number of Days(Aprox)/Year  \n",
      "0                          92  \n",
      "1                         121  \n"
     ]
    }
   ],
   "source": [
    "monsoon_file = r\"C:\\Users\\com\\Documents\\facts\\pms\\doc\\mansoon_co-relation\\Preventive Maintanance Check List V1.0-27052024 (1).xlsx\"\n",
    "monsoon_df = pd.read_excel(monsoon_file, sheet_name = 'Monsoon')\n",
    "print(monsoon_df.head(2))\n"
   ]
  },
  {
   "cell_type": "code",
   "execution_count": 30,
   "id": "93cfe33b-50f3-4d9b-a649-98040c3f4f85",
   "metadata": {},
   "outputs": [
    {
     "name": "stdout",
     "output_type": "stream",
     "text": [
      "  Circle Code       NSSID           Site Name Vendor         Lat-long  \\\n",
      "0         DEL  INDL007020  DLDELNRNSAR01C9010    NaN  28.6433/77.1447   \n",
      "1         DEL  INDL007020  DLDELNRNSAR02C9010    NaN  28.6433/77.1447   \n",
      "\n",
      "  Latitude  Longitude Domain Node name    Site Type  Frequency  \\\n",
      "0      NaN        NaN     IP       NaN  Core Router          4   \n",
      "1      NaN        NaN     IP       NaN  Core Router          4   \n",
      "\n",
      "   Proposed Frequency  Priority  Checklist                 Engineer  \n",
      "0                   4         1        NaN  RAN FE, Tx FE, Infra FE  \n",
      "1                   4         1        NaN  RAN FE, Tx FE, Infra FE  \n"
     ]
    }
   ],
   "source": [
    "uim_file = r\"C:\\Users\\com\\Documents\\facts\\pms\\doc\\mansoon_co-relation\\Updated_UIM.xlsx\"\n",
    "uim_df = pd.read_excel(uim_file)\n",
    "print(uim_df.head(2))"
   ]
  },
  {
   "cell_type": "code",
   "execution_count": 37,
   "id": "34a26210-c273-448f-8ced-932832408bea",
   "metadata": {},
   "outputs": [
    {
     "name": "stdout",
     "output_type": "stream",
     "text": [
      "Done\n",
      "Excel file updated successfully.\n"
     ]
    }
   ],
   "source": [
    "uim_df['Monsoon'] = False\n",
    "\n",
    "current_date = datetime.now().date()\n",
    "current_week_monday = current_date - timedelta(days=current_date.weekday())\n",
    "\n",
    "for uim_index, uim_row in uim_df.iterrows():\n",
    "    uim_circle = uim_row['Circle Code']\n",
    "    # print(uim_circle)\n",
    "\n",
    "    monsoon_circle_df = monsoon_df[monsoon_df['Circle'] == 'DEL']\n",
    "    startdate = monsoon_circle_df['Start(Aprox)'].iloc[0].date()\n",
    "    enddate = monsoon_circle_df['End(Aprox)'].iloc[0].date()\n",
    "\n",
    "    is_between = startdate <= current_week_monday <= enddate\n",
    "    uim_df.at[uim_index, 'Monsoon'] = is_between\n",
    "print(\"Done\")\n",
    "\n",
    "excel_file_path = r'C:\\Users\\com\\Documents\\facts\\pms\\doc\\mansoon_co-relation\\Updated_UIM_Monsoon.xlsx'\n",
    "uim_df.to_excel(excel_file_path, index=False)\n",
    "print(\"Excel file updated successfully.\")\n"
   ]
  },
  {
   "cell_type": "code",
   "execution_count": 22,
   "id": "411a7e14-10ff-4ae6-9160-2470623ae574",
   "metadata": {},
   "outputs": [
    {
     "name": "stdout",
     "output_type": "stream",
     "text": [
      "Current week Monday = 2024-07-01\n"
     ]
    }
   ],
   "source": [
    "# Get the current date\n",
    "current_date = datetime.now().date()\n",
    "\n",
    "# Calculate the Monday of the current week\n",
    "current_week_monday = current_date - timedelta(days=current_date.weekday())\n",
    "\n",
    "print(\"Current week Monday =\", current_week_monday)\n"
   ]
  },
  {
   "cell_type": "code",
   "execution_count": null,
   "id": "2c3b0849-309d-4a3b-a2de-8e3567713652",
   "metadata": {},
   "outputs": [],
   "source": []
  }
 ],
 "metadata": {
  "kernelspec": {
   "display_name": "Python 3 (ipykernel)",
   "language": "python",
   "name": "python3"
  },
  "language_info": {
   "codemirror_mode": {
    "name": "ipython",
    "version": 3
   },
   "file_extension": ".py",
   "mimetype": "text/x-python",
   "name": "python",
   "nbconvert_exporter": "python",
   "pygments_lexer": "ipython3",
   "version": "3.12.2"
  }
 },
 "nbformat": 4,
 "nbformat_minor": 5
}
